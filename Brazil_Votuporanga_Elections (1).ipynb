{
  "nbformat": 4,
  "nbformat_minor": 0,
  "metadata": {
    "colab": {
      "provenance": [],
      "toc_visible": true
    },
    "kernelspec": {
      "name": "python3",
      "display_name": "Python 3"
    }
  },
  "cells": [
    {
      "cell_type": "markdown",
      "metadata": {
        "id": "d9jDtUbDOE1-"
      },
      "source": [
        "# **Tópicos**\n",
        "\n",
        "<ol type=\"1\">\n",
        "  <li>Introdução;</li>\n",
        "  <li>Exploração;</li>\n",
        "  <li>Processamento;</li>\n",
        "  <li>Visualização;</li>\n",
        "  <li>Divulgação.</li>\n",
        "</ol>"
      ]
    },
    {
      "cell_type": "markdown",
      "metadata": {
        "id": "SmoHgt-lwkpD"
      },
      "source": [
        "---"
      ]
    },
    {
      "cell_type": "markdown",
      "source": [
        "## 1\\. Introdução"
      ],
      "metadata": {
        "id": "-Rig-cljwJdi"
      }
    },
    {
      "cell_type": "markdown",
      "metadata": {
        "id": "JUonSt7kxZyj"
      },
      "source": [
        "O tribunal superior eleitoral (TSE) disponibilizou os dados brutos das urnas de votação utilizadas durante o processo eleitoral de 2022. No site do TSE ([link](https://resultados.tse.jus.br/oficial/app/index.html#/eleicao/resultados)) encontra-se os seguintes dados para cada urna:"
      ]
    },
    {
      "cell_type": "markdown",
      "source": [
        " - **Registro Digital do Voto (RDV)**: Registro unitário dos votos;\n",
        " - **Boletim de Urna**: Resultados agregados;\n",
        " - **Log de Urna**: Todos os eventos que ocorreram na urna."
      ],
      "metadata": {
        "id": "M5K99BBs9C1Q"
      }
    },
    {
      "cell_type": "markdown",
      "source": [
        "A documentação técnica para o processamento dos arquivo também se encontra no website do TSE ([link](https://www.tse.jus.br/eleicoes/eleicoes-2022/documentacao-tecnica-do-software-da-urna-eletronica))."
      ],
      "metadata": {
        "id": "KIzpIja__Xob"
      }
    },
    {
      "cell_type": "markdown",
      "source": [
        "> Para uma única urna (estado, cidade, zona e seção), vamos utilizar o **Python** para processar o seu arquivo **RDV** e replicar os valores agregados do seu **Boletim de Urna** para o segundo turno de votação para presidente do processo eleitoral de 2022."
      ],
      "metadata": {
        "id": "19a6O3YOhlmq"
      }
    },
    {
      "cell_type": "markdown",
      "metadata": {
        "id": "EvJTE2FpaGeU"
      },
      "source": [
        "## 2\\. Exploração"
      ]
    },
    {
      "cell_type": "markdown",
      "source": [
        "### **2.1. Upload** "
      ],
      "metadata": {
        "id": "DDpx-CqDoEMB"
      }
    },
    {
      "cell_type": "markdown",
      "source": [
        "No site de resultados do TSE ([link](https://resultados.tse.jus.br/oficial/app/index.html)), selecione os dados de uma única urna, faça o *download* do arquivo RDV e então, o seu *upload* no ambiente do Google Colab. "
      ],
      "metadata": {
        "id": "aY9hV7LkoEQv"
      }
    },
    {
      "cell_type": "markdown",
      "source": [
        "### **2.2. Descriptografia** "
      ],
      "metadata": {
        "id": "8lvsCpnSoR0k"
      }
    },
    {
      "cell_type": "markdown",
      "source": [
        "Vamos utilizar o código disponibilizado pelo próprio TSE ([link](https://www.tse.jus.br/eleicoes/eleicoes-2022/documentacao-tecnica-do-software-da-urna-eletronica)) para descriptografar o arquivo RDV em um arquivo de texto. O código foi replicado neste [link](https://raw.githubusercontent.com/andre-marcos-perez/ebac-course-utils/develop/notebooks/2022_11_29/rdv.py) para facilitar a sua integração com o Google Colab."
      ],
      "metadata": {
        "id": "ue3LBOvcap6Z"
      }
    },
    {
      "cell_type": "markdown",
      "source": [
        " - Faça o *download* do código de descriptografia."
      ],
      "metadata": {
        "id": "Y2XahMe2BMQM"
      }
    },
    {
      "cell_type": "code",
      "source": [
        "!curl -s https://raw.githubusercontent.com/andre-marcos-perez/ebac-course-utils/develop/notebooks/2022_11_29/rdv.py -o rdv.py"
      ],
      "metadata": {
        "id": "bamgYxoFYPjM"
      },
      "execution_count": null,
      "outputs": []
    },
    {
      "cell_type": "markdown",
      "source": [
        " - Instale o pacote de criptografia utilizado pelo código."
      ],
      "metadata": {
        "id": "UPbccDxhBXMo"
      }
    },
    {
      "cell_type": "code",
      "source": [
        "!pip install asn1crypto==1.5.1"
      ],
      "metadata": {
        "id": "EQew9bbvZ4L2",
        "outputId": "b0483b26-9b3e-44b0-96a3-8cf03f3e0163",
        "colab": {
          "base_uri": "https://localhost:8080/"
        }
      },
      "execution_count": null,
      "outputs": [
        {
          "output_type": "stream",
          "name": "stdout",
          "text": [
            "Looking in indexes: https://pypi.org/simple, https://us-python.pkg.dev/colab-wheels/public/simple/\n",
            "Collecting asn1crypto==1.5.1\n",
            "  Downloading asn1crypto-1.5.1-py2.py3-none-any.whl (105 kB)\n",
            "\u001b[?25l\r\u001b[K     |███▏                            | 10 kB 25.0 MB/s eta 0:00:01\r\u001b[K     |██████▎                         | 20 kB 30.3 MB/s eta 0:00:01\r\u001b[K     |█████████▍                      | 30 kB 39.8 MB/s eta 0:00:01\r\u001b[K     |████████████▌                   | 40 kB 46.2 MB/s eta 0:00:01\r\u001b[K     |███████████████▋                | 51 kB 52.6 MB/s eta 0:00:01\r\u001b[K     |██████████████████▊             | 61 kB 58.3 MB/s eta 0:00:01\r\u001b[K     |█████████████████████▉          | 71 kB 39.3 MB/s eta 0:00:01\r\u001b[K     |█████████████████████████       | 81 kB 31.6 MB/s eta 0:00:01\r\u001b[K     |████████████████████████████    | 92 kB 33.6 MB/s eta 0:00:01\r\u001b[K     |███████████████████████████████▏| 102 kB 36.3 MB/s eta 0:00:01\r\u001b[K     |████████████████████████████████| 105 kB 36.3 MB/s \n",
            "\u001b[?25hInstalling collected packages: asn1crypto\n",
            "Successfully installed asn1crypto-1.5.1\n"
          ]
        }
      ]
    },
    {
      "cell_type": "markdown",
      "source": [
        " - Substitua o texto `<NOME-DO-ARQUIVO-RDV>` pelo nome do arquivo RDV escolhido."
      ],
      "metadata": {
        "id": "DgdhKNTsA9dc"
      }
    },
    {
      "cell_type": "code",
      "source": [
        "!python rdv.py -r o00407-7245101470157.rdv.txt > rdv.txt"
      ],
      "metadata": {
        "id": "xHTxWEvyNd0y",
        "outputId": "a6ad749c-21fb-4998-86a2-cf35013e60c9",
        "colab": {
          "base_uri": "https://localhost:8080/"
        }
      },
      "execution_count": null,
      "outputs": [
        {
          "output_type": "stream",
          "name": "stdout",
          "text": [
            "2022-12-17 16:46:15,224 - INFO - Converte RDV o00407-7245101470157.rdv.txt\n"
          ]
        }
      ]
    },
    {
      "cell_type": "markdown",
      "source": [
        "### **2.3. Limpeza** "
      ],
      "metadata": {
        "id": "5OFA-fmBohlJ"
      }
    },
    {
      "cell_type": "markdown",
      "source": [
        "Na etapa de limpeza, vamos selecionar apenas as linhas do arquivo RDV referentes a votação para presidente."
      ],
      "metadata": {
        "id": "d4zw67ZOc-Cm"
      }
    },
    {
      "cell_type": "code",
      "source": [
        "content = []\n",
        "\n",
        "with open(file=\"rdv.txt\", mode=\"r\") as fp:\n",
        "  for line in fp.readlines():\n",
        "    if \"Governador\" in line:\n",
        "      break\n",
        "    else:\n",
        "      content.append(line) "
      ],
      "metadata": {
        "id": "TrBosvhCc-0W"
      },
      "execution_count": null,
      "outputs": []
    },
    {
      "cell_type": "code",
      "source": [
        "len(content)"
      ],
      "metadata": {
        "id": "HDTFc1M5grsT",
        "outputId": "e83207e0-9e65-4fee-90e4-0fced35b3c3a",
        "colab": {
          "base_uri": "https://localhost:8080/"
        }
      },
      "execution_count": null,
      "outputs": [
        {
          "output_type": "execute_result",
          "data": {
            "text/plain": [
              "222"
            ]
          },
          "metadata": {},
          "execution_count": 17
        }
      ]
    },
    {
      "cell_type": "code",
      "source": [
        "for line in content[0:10]:\n",
        "  print(line)"
      ],
      "metadata": {
        "id": "r0NNW-xhgjZ0",
        "outputId": "23b9a74f-fbc2-4bbc-c3a1-413ea6425813",
        "colab": {
          "base_uri": "https://localhost:8080/"
        }
      },
      "execution_count": null,
      "outputs": [
        {
          "output_type": "stream",
          "name": "stdout",
          "text": [
            "========================================\n",
            "\n",
            "----------------------------------------\n",
            "\n",
            "Presidente\n",
            "\n",
            "  1 - nominal  - [13]\n",
            "\n",
            "  2 - nominal  - [13]\n",
            "\n",
            "  3 - nominal  - [13]\n",
            "\n",
            "  4 - nominal  - [13]\n",
            "\n",
            "  5 - nominal  - [13]\n",
            "\n",
            "  6 - nominal  - [13]\n",
            "\n",
            "  7 - nominal  - [13]\n",
            "\n"
          ]
        }
      ]
    },
    {
      "cell_type": "markdown",
      "source": [
        "### **2.4. Extração** "
      ],
      "metadata": {
        "id": "042WnMxQotAX"
      }
    },
    {
      "cell_type": "markdown",
      "source": [
        "Na etapa de extração, vamos extrair apenas os dados de votação."
      ],
      "metadata": {
        "id": "2QpIbXo6gkMY"
      }
    },
    {
      "cell_type": "code",
      "source": [
        "import re"
      ],
      "metadata": {
        "id": "OO99O3ubgh4J"
      },
      "execution_count": null,
      "outputs": []
    },
    {
      "cell_type": "code",
      "source": [
        "pattern = re.compile(pattern=\"\\[(.*?)\\]\")"
      ],
      "metadata": {
        "id": "jpUIsVTkg5U1"
      },
      "execution_count": null,
      "outputs": []
    },
    {
      "cell_type": "code",
      "source": [
        "votes = []\n",
        "\n",
        "for line in content:\n",
        "\n",
        "  if \"branco\" in line:\n",
        "\n",
        "    votes.append({\"voto\": \"branco\", \"quantidade\": 1})\n",
        "\n",
        "  if \"nulo\" in line:\n",
        "\n",
        "    votes.append({\"voto\": \"nulo\", \"quantidade\": 1})\n",
        "\n",
        "  if \"nominal\" in line:\n",
        "\n",
        "    vote = re.findall(pattern=pattern, string=line)[0]\n",
        "    votes.append({\"voto\": f\"{vote}\", \"quantidade\": 1})"
      ],
      "metadata": {
        "id": "3yLyf43df-x1"
      },
      "execution_count": null,
      "outputs": []
    },
    {
      "cell_type": "code",
      "source": [
        "len(votes)"
      ],
      "metadata": {
        "id": "XjXerw1QhhfK",
        "outputId": "cc2e48ee-bfbc-44c9-d9b9-c0a2f37e6805",
        "colab": {
          "base_uri": "https://localhost:8080/"
        }
      },
      "execution_count": null,
      "outputs": [
        {
          "output_type": "execute_result",
          "data": {
            "text/plain": [
              "218"
            ]
          },
          "metadata": {},
          "execution_count": 22
        }
      ]
    },
    {
      "cell_type": "code",
      "source": [
        "for vote in votes[0:100]:\n",
        "  print(vote)"
      ],
      "metadata": {
        "id": "-OaGwIXSjiBz",
        "outputId": "c3b85f14-098d-451b-bd16-3f2496f398ca",
        "colab": {
          "base_uri": "https://localhost:8080/"
        }
      },
      "execution_count": null,
      "outputs": [
        {
          "output_type": "stream",
          "name": "stdout",
          "text": [
            "{'voto': '13', 'quantidade': 1}\n",
            "{'voto': '13', 'quantidade': 1}\n",
            "{'voto': '13', 'quantidade': 1}\n",
            "{'voto': '13', 'quantidade': 1}\n",
            "{'voto': '13', 'quantidade': 1}\n",
            "{'voto': '13', 'quantidade': 1}\n",
            "{'voto': '13', 'quantidade': 1}\n",
            "{'voto': '13', 'quantidade': 1}\n",
            "{'voto': '13', 'quantidade': 1}\n",
            "{'voto': '13', 'quantidade': 1}\n",
            "{'voto': '13', 'quantidade': 1}\n",
            "{'voto': '13', 'quantidade': 1}\n",
            "{'voto': '13', 'quantidade': 1}\n",
            "{'voto': '13', 'quantidade': 1}\n",
            "{'voto': '13', 'quantidade': 1}\n",
            "{'voto': '13', 'quantidade': 1}\n",
            "{'voto': '13', 'quantidade': 1}\n",
            "{'voto': '13', 'quantidade': 1}\n",
            "{'voto': '13', 'quantidade': 1}\n",
            "{'voto': '13', 'quantidade': 1}\n",
            "{'voto': '13', 'quantidade': 1}\n",
            "{'voto': '13', 'quantidade': 1}\n",
            "{'voto': '13', 'quantidade': 1}\n",
            "{'voto': '13', 'quantidade': 1}\n",
            "{'voto': '13', 'quantidade': 1}\n",
            "{'voto': '13', 'quantidade': 1}\n",
            "{'voto': '13', 'quantidade': 1}\n",
            "{'voto': '13', 'quantidade': 1}\n",
            "{'voto': '13', 'quantidade': 1}\n",
            "{'voto': '13', 'quantidade': 1}\n",
            "{'voto': '13', 'quantidade': 1}\n",
            "{'voto': '13', 'quantidade': 1}\n",
            "{'voto': '13', 'quantidade': 1}\n",
            "{'voto': '13', 'quantidade': 1}\n",
            "{'voto': '13', 'quantidade': 1}\n",
            "{'voto': '13', 'quantidade': 1}\n",
            "{'voto': '13', 'quantidade': 1}\n",
            "{'voto': '13', 'quantidade': 1}\n",
            "{'voto': '13', 'quantidade': 1}\n",
            "{'voto': '13', 'quantidade': 1}\n",
            "{'voto': '13', 'quantidade': 1}\n",
            "{'voto': '13', 'quantidade': 1}\n",
            "{'voto': '13', 'quantidade': 1}\n",
            "{'voto': '13', 'quantidade': 1}\n",
            "{'voto': '13', 'quantidade': 1}\n",
            "{'voto': '13', 'quantidade': 1}\n",
            "{'voto': '13', 'quantidade': 1}\n",
            "{'voto': '13', 'quantidade': 1}\n",
            "{'voto': '13', 'quantidade': 1}\n",
            "{'voto': '13', 'quantidade': 1}\n",
            "{'voto': '13', 'quantidade': 1}\n",
            "{'voto': '13', 'quantidade': 1}\n",
            "{'voto': '13', 'quantidade': 1}\n",
            "{'voto': '13', 'quantidade': 1}\n",
            "{'voto': '13', 'quantidade': 1}\n",
            "{'voto': '13', 'quantidade': 1}\n",
            "{'voto': '13', 'quantidade': 1}\n",
            "{'voto': '13', 'quantidade': 1}\n",
            "{'voto': '13', 'quantidade': 1}\n",
            "{'voto': '13', 'quantidade': 1}\n",
            "{'voto': '13', 'quantidade': 1}\n",
            "{'voto': '22', 'quantidade': 1}\n",
            "{'voto': '22', 'quantidade': 1}\n",
            "{'voto': '22', 'quantidade': 1}\n",
            "{'voto': '22', 'quantidade': 1}\n",
            "{'voto': '22', 'quantidade': 1}\n",
            "{'voto': '22', 'quantidade': 1}\n",
            "{'voto': '22', 'quantidade': 1}\n",
            "{'voto': '22', 'quantidade': 1}\n",
            "{'voto': '22', 'quantidade': 1}\n",
            "{'voto': '22', 'quantidade': 1}\n",
            "{'voto': '22', 'quantidade': 1}\n",
            "{'voto': '22', 'quantidade': 1}\n",
            "{'voto': '22', 'quantidade': 1}\n",
            "{'voto': '22', 'quantidade': 1}\n",
            "{'voto': '22', 'quantidade': 1}\n",
            "{'voto': '22', 'quantidade': 1}\n",
            "{'voto': '22', 'quantidade': 1}\n",
            "{'voto': '22', 'quantidade': 1}\n",
            "{'voto': '22', 'quantidade': 1}\n",
            "{'voto': '22', 'quantidade': 1}\n",
            "{'voto': '22', 'quantidade': 1}\n",
            "{'voto': '22', 'quantidade': 1}\n",
            "{'voto': '22', 'quantidade': 1}\n",
            "{'voto': '22', 'quantidade': 1}\n",
            "{'voto': '22', 'quantidade': 1}\n",
            "{'voto': '22', 'quantidade': 1}\n",
            "{'voto': '22', 'quantidade': 1}\n",
            "{'voto': '22', 'quantidade': 1}\n",
            "{'voto': '22', 'quantidade': 1}\n",
            "{'voto': '22', 'quantidade': 1}\n",
            "{'voto': '22', 'quantidade': 1}\n",
            "{'voto': '22', 'quantidade': 1}\n",
            "{'voto': '22', 'quantidade': 1}\n",
            "{'voto': '22', 'quantidade': 1}\n",
            "{'voto': '22', 'quantidade': 1}\n",
            "{'voto': '22', 'quantidade': 1}\n",
            "{'voto': '22', 'quantidade': 1}\n",
            "{'voto': '22', 'quantidade': 1}\n",
            "{'voto': '22', 'quantidade': 1}\n"
          ]
        }
      ]
    },
    {
      "cell_type": "markdown",
      "source": [
        "## 3\\. Processamento"
      ],
      "metadata": {
        "id": "9Vc1xfxBnpal"
      }
    },
    {
      "cell_type": "markdown",
      "source": [
        "Nesta aula vamos agregar os votos extraídos do arquivo RDV."
      ],
      "metadata": {
        "id": "aYgj8tEKn3WV"
      }
    },
    {
      "cell_type": "code",
      "source": [
        "for vote in votes[0:10]:\n",
        "  print(vote)"
      ],
      "metadata": {
        "id": "yvrLD_U8n4mh",
        "outputId": "4106b327-1d8e-4435-9b84-a4c129707ec9",
        "colab": {
          "base_uri": "https://localhost:8080/"
        }
      },
      "execution_count": null,
      "outputs": [
        {
          "output_type": "stream",
          "name": "stdout",
          "text": [
            "{'voto': '13', 'quantidade': 1}\n",
            "{'voto': '13', 'quantidade': 1}\n",
            "{'voto': '13', 'quantidade': 1}\n",
            "{'voto': '13', 'quantidade': 1}\n",
            "{'voto': '13', 'quantidade': 1}\n",
            "{'voto': '13', 'quantidade': 1}\n",
            "{'voto': '13', 'quantidade': 1}\n",
            "{'voto': '13', 'quantidade': 1}\n",
            "{'voto': '13', 'quantidade': 1}\n",
            "{'voto': '13', 'quantidade': 1}\n"
          ]
        }
      ]
    },
    {
      "cell_type": "markdown",
      "source": [
        "### **3.1. Pandas**"
      ],
      "metadata": {
        "id": "1FqEmBSNnj5v"
      }
    },
    {
      "cell_type": "markdown",
      "source": [
        "Vamos utilizar o `Pandas`, o pacote **Python** mais utilizado para processamento de dados."
      ],
      "metadata": {
        "id": "Ci6sgZpOjodO"
      }
    },
    {
      "cell_type": "code",
      "source": [
        "import pandas as pd"
      ],
      "metadata": {
        "id": "ATSOc5bNjrgA"
      },
      "execution_count": null,
      "outputs": []
    },
    {
      "cell_type": "markdown",
      "source": [
        "### **3.2. DataFrame**"
      ],
      "metadata": {
        "id": "e3ElPGw0rZ5f"
      }
    },
    {
      "cell_type": "markdown",
      "source": [
        "A abstração base do `Pandas` é o `DataFrame`, uma estrutura de dados que representa uma tabela de duas dimensões."
      ],
      "metadata": {
        "id": "stW_4PNKrhuX"
      }
    },
    {
      "cell_type": "code",
      "source": [
        "votes_table = pd.DataFrame(votes)"
      ],
      "metadata": {
        "id": "w_ppM8GSjs8o"
      },
      "execution_count": null,
      "outputs": []
    },
    {
      "cell_type": "code",
      "source": [
        "votes_table"
      ],
      "metadata": {
        "id": "XrlA5BULjzE5",
        "outputId": "19d2ac8c-3a4b-4801-8477-6ecd55e818a1",
        "colab": {
          "base_uri": "https://localhost:8080/",
          "height": 424
        }
      },
      "execution_count": null,
      "outputs": [
        {
          "output_type": "execute_result",
          "data": {
            "text/plain": [
              "     voto  quantidade\n",
              "0      13           1\n",
              "1      13           1\n",
              "2      13           1\n",
              "3      13           1\n",
              "4      13           1\n",
              "..    ...         ...\n",
              "213  nulo           1\n",
              "214  nulo           1\n",
              "215  nulo           1\n",
              "216  nulo           1\n",
              "217  nulo           1\n",
              "\n",
              "[218 rows x 2 columns]"
            ],
            "text/html": [
              "\n",
              "  <div id=\"df-269a5291-b58c-466b-a223-7be2c42f419a\">\n",
              "    <div class=\"colab-df-container\">\n",
              "      <div>\n",
              "<style scoped>\n",
              "    .dataframe tbody tr th:only-of-type {\n",
              "        vertical-align: middle;\n",
              "    }\n",
              "\n",
              "    .dataframe tbody tr th {\n",
              "        vertical-align: top;\n",
              "    }\n",
              "\n",
              "    .dataframe thead th {\n",
              "        text-align: right;\n",
              "    }\n",
              "</style>\n",
              "<table border=\"1\" class=\"dataframe\">\n",
              "  <thead>\n",
              "    <tr style=\"text-align: right;\">\n",
              "      <th></th>\n",
              "      <th>voto</th>\n",
              "      <th>quantidade</th>\n",
              "    </tr>\n",
              "  </thead>\n",
              "  <tbody>\n",
              "    <tr>\n",
              "      <th>0</th>\n",
              "      <td>13</td>\n",
              "      <td>1</td>\n",
              "    </tr>\n",
              "    <tr>\n",
              "      <th>1</th>\n",
              "      <td>13</td>\n",
              "      <td>1</td>\n",
              "    </tr>\n",
              "    <tr>\n",
              "      <th>2</th>\n",
              "      <td>13</td>\n",
              "      <td>1</td>\n",
              "    </tr>\n",
              "    <tr>\n",
              "      <th>3</th>\n",
              "      <td>13</td>\n",
              "      <td>1</td>\n",
              "    </tr>\n",
              "    <tr>\n",
              "      <th>4</th>\n",
              "      <td>13</td>\n",
              "      <td>1</td>\n",
              "    </tr>\n",
              "    <tr>\n",
              "      <th>...</th>\n",
              "      <td>...</td>\n",
              "      <td>...</td>\n",
              "    </tr>\n",
              "    <tr>\n",
              "      <th>213</th>\n",
              "      <td>nulo</td>\n",
              "      <td>1</td>\n",
              "    </tr>\n",
              "    <tr>\n",
              "      <th>214</th>\n",
              "      <td>nulo</td>\n",
              "      <td>1</td>\n",
              "    </tr>\n",
              "    <tr>\n",
              "      <th>215</th>\n",
              "      <td>nulo</td>\n",
              "      <td>1</td>\n",
              "    </tr>\n",
              "    <tr>\n",
              "      <th>216</th>\n",
              "      <td>nulo</td>\n",
              "      <td>1</td>\n",
              "    </tr>\n",
              "    <tr>\n",
              "      <th>217</th>\n",
              "      <td>nulo</td>\n",
              "      <td>1</td>\n",
              "    </tr>\n",
              "  </tbody>\n",
              "</table>\n",
              "<p>218 rows × 2 columns</p>\n",
              "</div>\n",
              "      <button class=\"colab-df-convert\" onclick=\"convertToInteractive('df-269a5291-b58c-466b-a223-7be2c42f419a')\"\n",
              "              title=\"Convert this dataframe to an interactive table.\"\n",
              "              style=\"display:none;\">\n",
              "        \n",
              "  <svg xmlns=\"http://www.w3.org/2000/svg\" height=\"24px\"viewBox=\"0 0 24 24\"\n",
              "       width=\"24px\">\n",
              "    <path d=\"M0 0h24v24H0V0z\" fill=\"none\"/>\n",
              "    <path d=\"M18.56 5.44l.94 2.06.94-2.06 2.06-.94-2.06-.94-.94-2.06-.94 2.06-2.06.94zm-11 1L8.5 8.5l.94-2.06 2.06-.94-2.06-.94L8.5 2.5l-.94 2.06-2.06.94zm10 10l.94 2.06.94-2.06 2.06-.94-2.06-.94-.94-2.06-.94 2.06-2.06.94z\"/><path d=\"M17.41 7.96l-1.37-1.37c-.4-.4-.92-.59-1.43-.59-.52 0-1.04.2-1.43.59L10.3 9.45l-7.72 7.72c-.78.78-.78 2.05 0 2.83L4 21.41c.39.39.9.59 1.41.59.51 0 1.02-.2 1.41-.59l7.78-7.78 2.81-2.81c.8-.78.8-2.07 0-2.86zM5.41 20L4 18.59l7.72-7.72 1.47 1.35L5.41 20z\"/>\n",
              "  </svg>\n",
              "      </button>\n",
              "      \n",
              "  <style>\n",
              "    .colab-df-container {\n",
              "      display:flex;\n",
              "      flex-wrap:wrap;\n",
              "      gap: 12px;\n",
              "    }\n",
              "\n",
              "    .colab-df-convert {\n",
              "      background-color: #E8F0FE;\n",
              "      border: none;\n",
              "      border-radius: 50%;\n",
              "      cursor: pointer;\n",
              "      display: none;\n",
              "      fill: #1967D2;\n",
              "      height: 32px;\n",
              "      padding: 0 0 0 0;\n",
              "      width: 32px;\n",
              "    }\n",
              "\n",
              "    .colab-df-convert:hover {\n",
              "      background-color: #E2EBFA;\n",
              "      box-shadow: 0px 1px 2px rgba(60, 64, 67, 0.3), 0px 1px 3px 1px rgba(60, 64, 67, 0.15);\n",
              "      fill: #174EA6;\n",
              "    }\n",
              "\n",
              "    [theme=dark] .colab-df-convert {\n",
              "      background-color: #3B4455;\n",
              "      fill: #D2E3FC;\n",
              "    }\n",
              "\n",
              "    [theme=dark] .colab-df-convert:hover {\n",
              "      background-color: #434B5C;\n",
              "      box-shadow: 0px 1px 3px 1px rgba(0, 0, 0, 0.15);\n",
              "      filter: drop-shadow(0px 1px 2px rgba(0, 0, 0, 0.3));\n",
              "      fill: #FFFFFF;\n",
              "    }\n",
              "  </style>\n",
              "\n",
              "      <script>\n",
              "        const buttonEl =\n",
              "          document.querySelector('#df-269a5291-b58c-466b-a223-7be2c42f419a button.colab-df-convert');\n",
              "        buttonEl.style.display =\n",
              "          google.colab.kernel.accessAllowed ? 'block' : 'none';\n",
              "\n",
              "        async function convertToInteractive(key) {\n",
              "          const element = document.querySelector('#df-269a5291-b58c-466b-a223-7be2c42f419a');\n",
              "          const dataTable =\n",
              "            await google.colab.kernel.invokeFunction('convertToInteractive',\n",
              "                                                     [key], {});\n",
              "          if (!dataTable) return;\n",
              "\n",
              "          const docLinkHtml = 'Like what you see? Visit the ' +\n",
              "            '<a target=\"_blank\" href=https://colab.research.google.com/notebooks/data_table.ipynb>data table notebook</a>'\n",
              "            + ' to learn more about interactive tables.';\n",
              "          element.innerHTML = '';\n",
              "          dataTable['output_type'] = 'display_data';\n",
              "          await google.colab.output.renderOutput(dataTable, element);\n",
              "          const docLink = document.createElement('div');\n",
              "          docLink.innerHTML = docLinkHtml;\n",
              "          element.appendChild(docLink);\n",
              "        }\n",
              "      </script>\n",
              "    </div>\n",
              "  </div>\n",
              "  "
            ]
          },
          "metadata": {},
          "execution_count": 29
        }
      ]
    },
    {
      "cell_type": "code",
      "source": [
        "votes_table.shape"
      ],
      "metadata": {
        "id": "7Swsri4Nj3F2",
        "outputId": "aa2afacd-3459-47f7-a3ae-7b2b3ae0deb5",
        "colab": {
          "base_uri": "https://localhost:8080/"
        }
      },
      "execution_count": null,
      "outputs": [
        {
          "output_type": "execute_result",
          "data": {
            "text/plain": [
              "(218, 2)"
            ]
          },
          "metadata": {},
          "execution_count": 30
        }
      ]
    },
    {
      "cell_type": "code",
      "source": [
        "votes_table.to_csv(\"rdv.csv\", header=True, index=False)"
      ],
      "metadata": {
        "id": "2qCTPCUBtdH1"
      },
      "execution_count": null,
      "outputs": []
    },
    {
      "cell_type": "markdown",
      "source": [
        "### **3.3. Agregação**"
      ],
      "metadata": {
        "id": "6poQ6YN7riqu"
      }
    },
    {
      "cell_type": "markdown",
      "source": [
        "Nesta etapa vamos agregagar os votos com uma operação matemática de soma."
      ],
      "metadata": {
        "id": "ARISjCaFkQZX"
      }
    },
    {
      "cell_type": "code",
      "source": [
        "votes_table_agg = votes_table.groupby('voto').agg('sum').reset_index()"
      ],
      "metadata": {
        "id": "gkEJzWmdj72o"
      },
      "execution_count": null,
      "outputs": []
    },
    {
      "cell_type": "code",
      "source": [
        "votes_table_agg"
      ],
      "metadata": {
        "id": "dzeCL1gtkK2H",
        "outputId": "86b1c0fa-ccc2-4bc6-8380-1808b98a248c",
        "colab": {
          "base_uri": "https://localhost:8080/",
          "height": 175
        }
      },
      "execution_count": null,
      "outputs": [
        {
          "output_type": "execute_result",
          "data": {
            "text/plain": [
              "     voto  quantidade\n",
              "0      13          61\n",
              "1      22         149\n",
              "2  branco           1\n",
              "3    nulo           7"
            ],
            "text/html": [
              "\n",
              "  <div id=\"df-2316a9a0-2c96-4dcd-98ff-958df32f9b32\">\n",
              "    <div class=\"colab-df-container\">\n",
              "      <div>\n",
              "<style scoped>\n",
              "    .dataframe tbody tr th:only-of-type {\n",
              "        vertical-align: middle;\n",
              "    }\n",
              "\n",
              "    .dataframe tbody tr th {\n",
              "        vertical-align: top;\n",
              "    }\n",
              "\n",
              "    .dataframe thead th {\n",
              "        text-align: right;\n",
              "    }\n",
              "</style>\n",
              "<table border=\"1\" class=\"dataframe\">\n",
              "  <thead>\n",
              "    <tr style=\"text-align: right;\">\n",
              "      <th></th>\n",
              "      <th>voto</th>\n",
              "      <th>quantidade</th>\n",
              "    </tr>\n",
              "  </thead>\n",
              "  <tbody>\n",
              "    <tr>\n",
              "      <th>0</th>\n",
              "      <td>13</td>\n",
              "      <td>61</td>\n",
              "    </tr>\n",
              "    <tr>\n",
              "      <th>1</th>\n",
              "      <td>22</td>\n",
              "      <td>149</td>\n",
              "    </tr>\n",
              "    <tr>\n",
              "      <th>2</th>\n",
              "      <td>branco</td>\n",
              "      <td>1</td>\n",
              "    </tr>\n",
              "    <tr>\n",
              "      <th>3</th>\n",
              "      <td>nulo</td>\n",
              "      <td>7</td>\n",
              "    </tr>\n",
              "  </tbody>\n",
              "</table>\n",
              "</div>\n",
              "      <button class=\"colab-df-convert\" onclick=\"convertToInteractive('df-2316a9a0-2c96-4dcd-98ff-958df32f9b32')\"\n",
              "              title=\"Convert this dataframe to an interactive table.\"\n",
              "              style=\"display:none;\">\n",
              "        \n",
              "  <svg xmlns=\"http://www.w3.org/2000/svg\" height=\"24px\"viewBox=\"0 0 24 24\"\n",
              "       width=\"24px\">\n",
              "    <path d=\"M0 0h24v24H0V0z\" fill=\"none\"/>\n",
              "    <path d=\"M18.56 5.44l.94 2.06.94-2.06 2.06-.94-2.06-.94-.94-2.06-.94 2.06-2.06.94zm-11 1L8.5 8.5l.94-2.06 2.06-.94-2.06-.94L8.5 2.5l-.94 2.06-2.06.94zm10 10l.94 2.06.94-2.06 2.06-.94-2.06-.94-.94-2.06-.94 2.06-2.06.94z\"/><path d=\"M17.41 7.96l-1.37-1.37c-.4-.4-.92-.59-1.43-.59-.52 0-1.04.2-1.43.59L10.3 9.45l-7.72 7.72c-.78.78-.78 2.05 0 2.83L4 21.41c.39.39.9.59 1.41.59.51 0 1.02-.2 1.41-.59l7.78-7.78 2.81-2.81c.8-.78.8-2.07 0-2.86zM5.41 20L4 18.59l7.72-7.72 1.47 1.35L5.41 20z\"/>\n",
              "  </svg>\n",
              "      </button>\n",
              "      \n",
              "  <style>\n",
              "    .colab-df-container {\n",
              "      display:flex;\n",
              "      flex-wrap:wrap;\n",
              "      gap: 12px;\n",
              "    }\n",
              "\n",
              "    .colab-df-convert {\n",
              "      background-color: #E8F0FE;\n",
              "      border: none;\n",
              "      border-radius: 50%;\n",
              "      cursor: pointer;\n",
              "      display: none;\n",
              "      fill: #1967D2;\n",
              "      height: 32px;\n",
              "      padding: 0 0 0 0;\n",
              "      width: 32px;\n",
              "    }\n",
              "\n",
              "    .colab-df-convert:hover {\n",
              "      background-color: #E2EBFA;\n",
              "      box-shadow: 0px 1px 2px rgba(60, 64, 67, 0.3), 0px 1px 3px 1px rgba(60, 64, 67, 0.15);\n",
              "      fill: #174EA6;\n",
              "    }\n",
              "\n",
              "    [theme=dark] .colab-df-convert {\n",
              "      background-color: #3B4455;\n",
              "      fill: #D2E3FC;\n",
              "    }\n",
              "\n",
              "    [theme=dark] .colab-df-convert:hover {\n",
              "      background-color: #434B5C;\n",
              "      box-shadow: 0px 1px 3px 1px rgba(0, 0, 0, 0.15);\n",
              "      filter: drop-shadow(0px 1px 2px rgba(0, 0, 0, 0.3));\n",
              "      fill: #FFFFFF;\n",
              "    }\n",
              "  </style>\n",
              "\n",
              "      <script>\n",
              "        const buttonEl =\n",
              "          document.querySelector('#df-2316a9a0-2c96-4dcd-98ff-958df32f9b32 button.colab-df-convert');\n",
              "        buttonEl.style.display =\n",
              "          google.colab.kernel.accessAllowed ? 'block' : 'none';\n",
              "\n",
              "        async function convertToInteractive(key) {\n",
              "          const element = document.querySelector('#df-2316a9a0-2c96-4dcd-98ff-958df32f9b32');\n",
              "          const dataTable =\n",
              "            await google.colab.kernel.invokeFunction('convertToInteractive',\n",
              "                                                     [key], {});\n",
              "          if (!dataTable) return;\n",
              "\n",
              "          const docLinkHtml = 'Like what you see? Visit the ' +\n",
              "            '<a target=\"_blank\" href=https://colab.research.google.com/notebooks/data_table.ipynb>data table notebook</a>'\n",
              "            + ' to learn more about interactive tables.';\n",
              "          element.innerHTML = '';\n",
              "          dataTable['output_type'] = 'display_data';\n",
              "          await google.colab.output.renderOutput(dataTable, element);\n",
              "          const docLink = document.createElement('div');\n",
              "          docLink.innerHTML = docLinkHtml;\n",
              "          element.appendChild(docLink);\n",
              "        }\n",
              "      </script>\n",
              "    </div>\n",
              "  </div>\n",
              "  "
            ]
          },
          "metadata": {},
          "execution_count": 34
        }
      ]
    },
    {
      "cell_type": "markdown",
      "source": [
        "Nesta etapa vamos ordenar os dados agregados de forma decrescente, ou seja, da maior quantidade de votos para a menor."
      ],
      "metadata": {
        "id": "KCWacJbzkSc_"
      }
    },
    {
      "cell_type": "code",
      "source": [
        "votes_table_agg = votes_table_agg.sort_values(by='quantidade', ascending=False)"
      ],
      "metadata": {
        "id": "J9t3nD4ukTQC"
      },
      "execution_count": null,
      "outputs": []
    },
    {
      "cell_type": "code",
      "source": [
        "votes_table_agg"
      ],
      "metadata": {
        "id": "mC7IT5eckdDI",
        "outputId": "4c93c400-cbcb-430b-dcd0-7b9b15fa5ee3",
        "colab": {
          "base_uri": "https://localhost:8080/",
          "height": 175
        }
      },
      "execution_count": null,
      "outputs": [
        {
          "output_type": "execute_result",
          "data": {
            "text/plain": [
              "     voto  quantidade\n",
              "1      22         149\n",
              "0      13          61\n",
              "3    nulo           7\n",
              "2  branco           1"
            ],
            "text/html": [
              "\n",
              "  <div id=\"df-3de0ae3e-bd2d-4cbd-b053-a36a0e1b94fb\">\n",
              "    <div class=\"colab-df-container\">\n",
              "      <div>\n",
              "<style scoped>\n",
              "    .dataframe tbody tr th:only-of-type {\n",
              "        vertical-align: middle;\n",
              "    }\n",
              "\n",
              "    .dataframe tbody tr th {\n",
              "        vertical-align: top;\n",
              "    }\n",
              "\n",
              "    .dataframe thead th {\n",
              "        text-align: right;\n",
              "    }\n",
              "</style>\n",
              "<table border=\"1\" class=\"dataframe\">\n",
              "  <thead>\n",
              "    <tr style=\"text-align: right;\">\n",
              "      <th></th>\n",
              "      <th>voto</th>\n",
              "      <th>quantidade</th>\n",
              "    </tr>\n",
              "  </thead>\n",
              "  <tbody>\n",
              "    <tr>\n",
              "      <th>1</th>\n",
              "      <td>22</td>\n",
              "      <td>149</td>\n",
              "    </tr>\n",
              "    <tr>\n",
              "      <th>0</th>\n",
              "      <td>13</td>\n",
              "      <td>61</td>\n",
              "    </tr>\n",
              "    <tr>\n",
              "      <th>3</th>\n",
              "      <td>nulo</td>\n",
              "      <td>7</td>\n",
              "    </tr>\n",
              "    <tr>\n",
              "      <th>2</th>\n",
              "      <td>branco</td>\n",
              "      <td>1</td>\n",
              "    </tr>\n",
              "  </tbody>\n",
              "</table>\n",
              "</div>\n",
              "      <button class=\"colab-df-convert\" onclick=\"convertToInteractive('df-3de0ae3e-bd2d-4cbd-b053-a36a0e1b94fb')\"\n",
              "              title=\"Convert this dataframe to an interactive table.\"\n",
              "              style=\"display:none;\">\n",
              "        \n",
              "  <svg xmlns=\"http://www.w3.org/2000/svg\" height=\"24px\"viewBox=\"0 0 24 24\"\n",
              "       width=\"24px\">\n",
              "    <path d=\"M0 0h24v24H0V0z\" fill=\"none\"/>\n",
              "    <path d=\"M18.56 5.44l.94 2.06.94-2.06 2.06-.94-2.06-.94-.94-2.06-.94 2.06-2.06.94zm-11 1L8.5 8.5l.94-2.06 2.06-.94-2.06-.94L8.5 2.5l-.94 2.06-2.06.94zm10 10l.94 2.06.94-2.06 2.06-.94-2.06-.94-.94-2.06-.94 2.06-2.06.94z\"/><path d=\"M17.41 7.96l-1.37-1.37c-.4-.4-.92-.59-1.43-.59-.52 0-1.04.2-1.43.59L10.3 9.45l-7.72 7.72c-.78.78-.78 2.05 0 2.83L4 21.41c.39.39.9.59 1.41.59.51 0 1.02-.2 1.41-.59l7.78-7.78 2.81-2.81c.8-.78.8-2.07 0-2.86zM5.41 20L4 18.59l7.72-7.72 1.47 1.35L5.41 20z\"/>\n",
              "  </svg>\n",
              "      </button>\n",
              "      \n",
              "  <style>\n",
              "    .colab-df-container {\n",
              "      display:flex;\n",
              "      flex-wrap:wrap;\n",
              "      gap: 12px;\n",
              "    }\n",
              "\n",
              "    .colab-df-convert {\n",
              "      background-color: #E8F0FE;\n",
              "      border: none;\n",
              "      border-radius: 50%;\n",
              "      cursor: pointer;\n",
              "      display: none;\n",
              "      fill: #1967D2;\n",
              "      height: 32px;\n",
              "      padding: 0 0 0 0;\n",
              "      width: 32px;\n",
              "    }\n",
              "\n",
              "    .colab-df-convert:hover {\n",
              "      background-color: #E2EBFA;\n",
              "      box-shadow: 0px 1px 2px rgba(60, 64, 67, 0.3), 0px 1px 3px 1px rgba(60, 64, 67, 0.15);\n",
              "      fill: #174EA6;\n",
              "    }\n",
              "\n",
              "    [theme=dark] .colab-df-convert {\n",
              "      background-color: #3B4455;\n",
              "      fill: #D2E3FC;\n",
              "    }\n",
              "\n",
              "    [theme=dark] .colab-df-convert:hover {\n",
              "      background-color: #434B5C;\n",
              "      box-shadow: 0px 1px 3px 1px rgba(0, 0, 0, 0.15);\n",
              "      filter: drop-shadow(0px 1px 2px rgba(0, 0, 0, 0.3));\n",
              "      fill: #FFFFFF;\n",
              "    }\n",
              "  </style>\n",
              "\n",
              "      <script>\n",
              "        const buttonEl =\n",
              "          document.querySelector('#df-3de0ae3e-bd2d-4cbd-b053-a36a0e1b94fb button.colab-df-convert');\n",
              "        buttonEl.style.display =\n",
              "          google.colab.kernel.accessAllowed ? 'block' : 'none';\n",
              "\n",
              "        async function convertToInteractive(key) {\n",
              "          const element = document.querySelector('#df-3de0ae3e-bd2d-4cbd-b053-a36a0e1b94fb');\n",
              "          const dataTable =\n",
              "            await google.colab.kernel.invokeFunction('convertToInteractive',\n",
              "                                                     [key], {});\n",
              "          if (!dataTable) return;\n",
              "\n",
              "          const docLinkHtml = 'Like what you see? Visit the ' +\n",
              "            '<a target=\"_blank\" href=https://colab.research.google.com/notebooks/data_table.ipynb>data table notebook</a>'\n",
              "            + ' to learn more about interactive tables.';\n",
              "          element.innerHTML = '';\n",
              "          dataTable['output_type'] = 'display_data';\n",
              "          await google.colab.output.renderOutput(dataTable, element);\n",
              "          const docLink = document.createElement('div');\n",
              "          docLink.innerHTML = docLinkHtml;\n",
              "          element.appendChild(docLink);\n",
              "        }\n",
              "      </script>\n",
              "    </div>\n",
              "  </div>\n",
              "  "
            ]
          },
          "metadata": {},
          "execution_count": 36
        }
      ]
    },
    {
      "cell_type": "markdown",
      "source": [
        "Nesta etapa vamos adicionar uma coluna com os valores relativos percentuais da agregação dos dados."
      ],
      "metadata": {
        "id": "MZ6CzHPTkg7X"
      }
    },
    {
      "cell_type": "code",
      "source": [
        "votes_table_agg['quantidade_pct'] = round(100 * (votes_table_agg['quantidade'] / votes_table_agg['quantidade'].sum()), 2)"
      ],
      "metadata": {
        "id": "MgSv8oWKkiH2"
      },
      "execution_count": null,
      "outputs": []
    },
    {
      "cell_type": "code",
      "source": [
        "votes_table_agg"
      ],
      "metadata": {
        "id": "lRxc6x1mlIGf",
        "outputId": "29087651-a5f5-4c2b-ca7a-d2d36f14583e",
        "colab": {
          "base_uri": "https://localhost:8080/",
          "height": 175
        }
      },
      "execution_count": null,
      "outputs": [
        {
          "output_type": "execute_result",
          "data": {
            "text/plain": [
              "     voto  quantidade  quantidade_pct\n",
              "1      22         149           68.35\n",
              "0      13          61           27.98\n",
              "3    nulo           7            3.21\n",
              "2  branco           1            0.46"
            ],
            "text/html": [
              "\n",
              "  <div id=\"df-d2d9507f-8171-4486-ae11-528a2903f114\">\n",
              "    <div class=\"colab-df-container\">\n",
              "      <div>\n",
              "<style scoped>\n",
              "    .dataframe tbody tr th:only-of-type {\n",
              "        vertical-align: middle;\n",
              "    }\n",
              "\n",
              "    .dataframe tbody tr th {\n",
              "        vertical-align: top;\n",
              "    }\n",
              "\n",
              "    .dataframe thead th {\n",
              "        text-align: right;\n",
              "    }\n",
              "</style>\n",
              "<table border=\"1\" class=\"dataframe\">\n",
              "  <thead>\n",
              "    <tr style=\"text-align: right;\">\n",
              "      <th></th>\n",
              "      <th>voto</th>\n",
              "      <th>quantidade</th>\n",
              "      <th>quantidade_pct</th>\n",
              "    </tr>\n",
              "  </thead>\n",
              "  <tbody>\n",
              "    <tr>\n",
              "      <th>1</th>\n",
              "      <td>22</td>\n",
              "      <td>149</td>\n",
              "      <td>68.35</td>\n",
              "    </tr>\n",
              "    <tr>\n",
              "      <th>0</th>\n",
              "      <td>13</td>\n",
              "      <td>61</td>\n",
              "      <td>27.98</td>\n",
              "    </tr>\n",
              "    <tr>\n",
              "      <th>3</th>\n",
              "      <td>nulo</td>\n",
              "      <td>7</td>\n",
              "      <td>3.21</td>\n",
              "    </tr>\n",
              "    <tr>\n",
              "      <th>2</th>\n",
              "      <td>branco</td>\n",
              "      <td>1</td>\n",
              "      <td>0.46</td>\n",
              "    </tr>\n",
              "  </tbody>\n",
              "</table>\n",
              "</div>\n",
              "      <button class=\"colab-df-convert\" onclick=\"convertToInteractive('df-d2d9507f-8171-4486-ae11-528a2903f114')\"\n",
              "              title=\"Convert this dataframe to an interactive table.\"\n",
              "              style=\"display:none;\">\n",
              "        \n",
              "  <svg xmlns=\"http://www.w3.org/2000/svg\" height=\"24px\"viewBox=\"0 0 24 24\"\n",
              "       width=\"24px\">\n",
              "    <path d=\"M0 0h24v24H0V0z\" fill=\"none\"/>\n",
              "    <path d=\"M18.56 5.44l.94 2.06.94-2.06 2.06-.94-2.06-.94-.94-2.06-.94 2.06-2.06.94zm-11 1L8.5 8.5l.94-2.06 2.06-.94-2.06-.94L8.5 2.5l-.94 2.06-2.06.94zm10 10l.94 2.06.94-2.06 2.06-.94-2.06-.94-.94-2.06-.94 2.06-2.06.94z\"/><path d=\"M17.41 7.96l-1.37-1.37c-.4-.4-.92-.59-1.43-.59-.52 0-1.04.2-1.43.59L10.3 9.45l-7.72 7.72c-.78.78-.78 2.05 0 2.83L4 21.41c.39.39.9.59 1.41.59.51 0 1.02-.2 1.41-.59l7.78-7.78 2.81-2.81c.8-.78.8-2.07 0-2.86zM5.41 20L4 18.59l7.72-7.72 1.47 1.35L5.41 20z\"/>\n",
              "  </svg>\n",
              "      </button>\n",
              "      \n",
              "  <style>\n",
              "    .colab-df-container {\n",
              "      display:flex;\n",
              "      flex-wrap:wrap;\n",
              "      gap: 12px;\n",
              "    }\n",
              "\n",
              "    .colab-df-convert {\n",
              "      background-color: #E8F0FE;\n",
              "      border: none;\n",
              "      border-radius: 50%;\n",
              "      cursor: pointer;\n",
              "      display: none;\n",
              "      fill: #1967D2;\n",
              "      height: 32px;\n",
              "      padding: 0 0 0 0;\n",
              "      width: 32px;\n",
              "    }\n",
              "\n",
              "    .colab-df-convert:hover {\n",
              "      background-color: #E2EBFA;\n",
              "      box-shadow: 0px 1px 2px rgba(60, 64, 67, 0.3), 0px 1px 3px 1px rgba(60, 64, 67, 0.15);\n",
              "      fill: #174EA6;\n",
              "    }\n",
              "\n",
              "    [theme=dark] .colab-df-convert {\n",
              "      background-color: #3B4455;\n",
              "      fill: #D2E3FC;\n",
              "    }\n",
              "\n",
              "    [theme=dark] .colab-df-convert:hover {\n",
              "      background-color: #434B5C;\n",
              "      box-shadow: 0px 1px 3px 1px rgba(0, 0, 0, 0.15);\n",
              "      filter: drop-shadow(0px 1px 2px rgba(0, 0, 0, 0.3));\n",
              "      fill: #FFFFFF;\n",
              "    }\n",
              "  </style>\n",
              "\n",
              "      <script>\n",
              "        const buttonEl =\n",
              "          document.querySelector('#df-d2d9507f-8171-4486-ae11-528a2903f114 button.colab-df-convert');\n",
              "        buttonEl.style.display =\n",
              "          google.colab.kernel.accessAllowed ? 'block' : 'none';\n",
              "\n",
              "        async function convertToInteractive(key) {\n",
              "          const element = document.querySelector('#df-d2d9507f-8171-4486-ae11-528a2903f114');\n",
              "          const dataTable =\n",
              "            await google.colab.kernel.invokeFunction('convertToInteractive',\n",
              "                                                     [key], {});\n",
              "          if (!dataTable) return;\n",
              "\n",
              "          const docLinkHtml = 'Like what you see? Visit the ' +\n",
              "            '<a target=\"_blank\" href=https://colab.research.google.com/notebooks/data_table.ipynb>data table notebook</a>'\n",
              "            + ' to learn more about interactive tables.';\n",
              "          element.innerHTML = '';\n",
              "          dataTable['output_type'] = 'display_data';\n",
              "          await google.colab.output.renderOutput(dataTable, element);\n",
              "          const docLink = document.createElement('div');\n",
              "          docLink.innerHTML = docLinkHtml;\n",
              "          element.appendChild(docLink);\n",
              "        }\n",
              "      </script>\n",
              "    </div>\n",
              "  </div>\n",
              "  "
            ]
          },
          "metadata": {},
          "execution_count": 38
        }
      ]
    },
    {
      "cell_type": "markdown",
      "source": [
        "## 4\\. Visualização"
      ],
      "metadata": {
        "id": "Yn0ButilmZOV"
      }
    },
    {
      "cell_type": "markdown",
      "source": [
        "Nesta aula vamos visualizar os dados agregados."
      ],
      "metadata": {
        "id": "8ZmzZGzzlLJy"
      }
    },
    {
      "cell_type": "code",
      "source": [
        "votes_table_agg"
      ],
      "metadata": {
        "id": "upkG1XXUn9aw",
        "outputId": "6919e4c3-5327-41c1-9329-26d4c6487c0b",
        "colab": {
          "base_uri": "https://localhost:8080/",
          "height": 175
        }
      },
      "execution_count": null,
      "outputs": [
        {
          "output_type": "execute_result",
          "data": {
            "text/plain": [
              "     voto  quantidade  quantidade_pct\n",
              "1      22         149           68.35\n",
              "0      13          61           27.98\n",
              "3    nulo           7            3.21\n",
              "2  branco           1            0.46"
            ],
            "text/html": [
              "\n",
              "  <div id=\"df-4adc148d-8676-42e5-ae6c-bad276503711\">\n",
              "    <div class=\"colab-df-container\">\n",
              "      <div>\n",
              "<style scoped>\n",
              "    .dataframe tbody tr th:only-of-type {\n",
              "        vertical-align: middle;\n",
              "    }\n",
              "\n",
              "    .dataframe tbody tr th {\n",
              "        vertical-align: top;\n",
              "    }\n",
              "\n",
              "    .dataframe thead th {\n",
              "        text-align: right;\n",
              "    }\n",
              "</style>\n",
              "<table border=\"1\" class=\"dataframe\">\n",
              "  <thead>\n",
              "    <tr style=\"text-align: right;\">\n",
              "      <th></th>\n",
              "      <th>voto</th>\n",
              "      <th>quantidade</th>\n",
              "      <th>quantidade_pct</th>\n",
              "    </tr>\n",
              "  </thead>\n",
              "  <tbody>\n",
              "    <tr>\n",
              "      <th>1</th>\n",
              "      <td>22</td>\n",
              "      <td>149</td>\n",
              "      <td>68.35</td>\n",
              "    </tr>\n",
              "    <tr>\n",
              "      <th>0</th>\n",
              "      <td>13</td>\n",
              "      <td>61</td>\n",
              "      <td>27.98</td>\n",
              "    </tr>\n",
              "    <tr>\n",
              "      <th>3</th>\n",
              "      <td>nulo</td>\n",
              "      <td>7</td>\n",
              "      <td>3.21</td>\n",
              "    </tr>\n",
              "    <tr>\n",
              "      <th>2</th>\n",
              "      <td>branco</td>\n",
              "      <td>1</td>\n",
              "      <td>0.46</td>\n",
              "    </tr>\n",
              "  </tbody>\n",
              "</table>\n",
              "</div>\n",
              "      <button class=\"colab-df-convert\" onclick=\"convertToInteractive('df-4adc148d-8676-42e5-ae6c-bad276503711')\"\n",
              "              title=\"Convert this dataframe to an interactive table.\"\n",
              "              style=\"display:none;\">\n",
              "        \n",
              "  <svg xmlns=\"http://www.w3.org/2000/svg\" height=\"24px\"viewBox=\"0 0 24 24\"\n",
              "       width=\"24px\">\n",
              "    <path d=\"M0 0h24v24H0V0z\" fill=\"none\"/>\n",
              "    <path d=\"M18.56 5.44l.94 2.06.94-2.06 2.06-.94-2.06-.94-.94-2.06-.94 2.06-2.06.94zm-11 1L8.5 8.5l.94-2.06 2.06-.94-2.06-.94L8.5 2.5l-.94 2.06-2.06.94zm10 10l.94 2.06.94-2.06 2.06-.94-2.06-.94-.94-2.06-.94 2.06-2.06.94z\"/><path d=\"M17.41 7.96l-1.37-1.37c-.4-.4-.92-.59-1.43-.59-.52 0-1.04.2-1.43.59L10.3 9.45l-7.72 7.72c-.78.78-.78 2.05 0 2.83L4 21.41c.39.39.9.59 1.41.59.51 0 1.02-.2 1.41-.59l7.78-7.78 2.81-2.81c.8-.78.8-2.07 0-2.86zM5.41 20L4 18.59l7.72-7.72 1.47 1.35L5.41 20z\"/>\n",
              "  </svg>\n",
              "      </button>\n",
              "      \n",
              "  <style>\n",
              "    .colab-df-container {\n",
              "      display:flex;\n",
              "      flex-wrap:wrap;\n",
              "      gap: 12px;\n",
              "    }\n",
              "\n",
              "    .colab-df-convert {\n",
              "      background-color: #E8F0FE;\n",
              "      border: none;\n",
              "      border-radius: 50%;\n",
              "      cursor: pointer;\n",
              "      display: none;\n",
              "      fill: #1967D2;\n",
              "      height: 32px;\n",
              "      padding: 0 0 0 0;\n",
              "      width: 32px;\n",
              "    }\n",
              "\n",
              "    .colab-df-convert:hover {\n",
              "      background-color: #E2EBFA;\n",
              "      box-shadow: 0px 1px 2px rgba(60, 64, 67, 0.3), 0px 1px 3px 1px rgba(60, 64, 67, 0.15);\n",
              "      fill: #174EA6;\n",
              "    }\n",
              "\n",
              "    [theme=dark] .colab-df-convert {\n",
              "      background-color: #3B4455;\n",
              "      fill: #D2E3FC;\n",
              "    }\n",
              "\n",
              "    [theme=dark] .colab-df-convert:hover {\n",
              "      background-color: #434B5C;\n",
              "      box-shadow: 0px 1px 3px 1px rgba(0, 0, 0, 0.15);\n",
              "      filter: drop-shadow(0px 1px 2px rgba(0, 0, 0, 0.3));\n",
              "      fill: #FFFFFF;\n",
              "    }\n",
              "  </style>\n",
              "\n",
              "      <script>\n",
              "        const buttonEl =\n",
              "          document.querySelector('#df-4adc148d-8676-42e5-ae6c-bad276503711 button.colab-df-convert');\n",
              "        buttonEl.style.display =\n",
              "          google.colab.kernel.accessAllowed ? 'block' : 'none';\n",
              "\n",
              "        async function convertToInteractive(key) {\n",
              "          const element = document.querySelector('#df-4adc148d-8676-42e5-ae6c-bad276503711');\n",
              "          const dataTable =\n",
              "            await google.colab.kernel.invokeFunction('convertToInteractive',\n",
              "                                                     [key], {});\n",
              "          if (!dataTable) return;\n",
              "\n",
              "          const docLinkHtml = 'Like what you see? Visit the ' +\n",
              "            '<a target=\"_blank\" href=https://colab.research.google.com/notebooks/data_table.ipynb>data table notebook</a>'\n",
              "            + ' to learn more about interactive tables.';\n",
              "          element.innerHTML = '';\n",
              "          dataTable['output_type'] = 'display_data';\n",
              "          await google.colab.output.renderOutput(dataTable, element);\n",
              "          const docLink = document.createElement('div');\n",
              "          docLink.innerHTML = docLinkHtml;\n",
              "          element.appendChild(docLink);\n",
              "        }\n",
              "      </script>\n",
              "    </div>\n",
              "  </div>\n",
              "  "
            ]
          },
          "metadata": {},
          "execution_count": 42
        }
      ]
    },
    {
      "cell_type": "markdown",
      "source": [
        "### **4.1. Seaborn**"
      ],
      "metadata": {
        "id": "jomWZQ4wnYh7"
      }
    },
    {
      "cell_type": "markdown",
      "source": [
        "Vamos utilizar o `Seaborn`, um dos pacotes **Python** mais utilizado para visualização de dados."
      ],
      "metadata": {
        "id": "cggXsefznzxn"
      }
    },
    {
      "cell_type": "code",
      "source": [
        "import seaborn as sns"
      ],
      "metadata": {
        "id": "pKTiZEq-lL-q"
      },
      "execution_count": null,
      "outputs": []
    },
    {
      "cell_type": "code",
      "source": [
        "URNA = \"Votuporanga/SP - 147 - 157\""
      ],
      "metadata": {
        "id": "PTMFZ1jjmkew"
      },
      "execution_count": null,
      "outputs": []
    },
    {
      "cell_type": "markdown",
      "source": [
        "Nesta primeira visualização, vamos observar a **quantidade de votos absolutos**."
      ],
      "metadata": {
        "id": "qCcZEvdIp3qX"
      }
    },
    {
      "cell_type": "code",
      "source": [
        "x_column = 'voto'\n",
        "y_column = 'quantidade'"
      ],
      "metadata": {
        "id": "1NndRl7Bq3yN"
      },
      "execution_count": null,
      "outputs": []
    },
    {
      "cell_type": "code",
      "source": [
        "title = f'Apuração Presidente - Segundo turno de 2022 - Urna {URNA}'\n",
        "x_lable = 'Voto'\n",
        "y_lable = 'Quantidade'"
      ],
      "metadata": {
        "id": "4PHyn-SAq3yO"
      },
      "execution_count": null,
      "outputs": []
    },
    {
      "cell_type": "code",
      "source": [
        "with sns.axes_style('whitegrid'):\n",
        "  chart = sns.barplot(data=votes_table_agg, x=x_column, y=y_column)\n",
        "  chart.set(title=title, xlabel=x_lable, ylabel=y_lable);"
      ],
      "metadata": {
        "id": "1FkWOYQ0lWIi",
        "outputId": "9883d1d9-d1a3-4bf3-87a2-3ae73418a1b2",
        "colab": {
          "base_uri": "https://localhost:8080/",
          "height": 295
        }
      },
      "execution_count": null,
      "outputs": [
        {
          "output_type": "display_data",
          "data": {
            "text/plain": [
              "<Figure size 432x288 with 1 Axes>"
            ],
            "image/png": "[encoded data removed]"
          },
          "metadata": {}
        }
      ]
    },
    {
      "cell_type": "markdown",
      "source": [
        "Nesta segunda visualização, vamos observar a **quantidade de votos relativos**."
      ],
      "metadata": {
        "id": "C8SJN63Qp5FC"
      }
    },
    {
      "cell_type": "code",
      "source": [
        "x_column = 'voto'\n",
        "y_column = 'quantidade_pct'"
      ],
      "metadata": {
        "id": "iOXiDL_UqtnQ"
      },
      "execution_count": null,
      "outputs": []
    },
    {
      "cell_type": "code",
      "source": [
        "title = f'Apuração Presidente - Segundo turno de 2022 - Urna {URNA}'\n",
        "x_lable = 'Voto'\n",
        "y_lable = 'Quantidade (%)'"
      ],
      "metadata": {
        "id": "aMy65iinqEHJ"
      },
      "execution_count": null,
      "outputs": []
    },
    {
      "cell_type": "code",
      "source": [
        "with sns.axes_style('whitegrid'):\n",
        "  chart = sns.barplot(data=votes_table_agg, x=x_column, y=y_column)\n",
        "  chart.set(title=title, xlabel=x_lable, ylabel=y_lable);"
      ],
      "metadata": {
        "id": "2421F39nmDy4",
        "outputId": "209abbb6-f2b6-4a61-8fd7-c216eb9bb820",
        "colab": {
          "base_uri": "https://localhost:8080/",
          "height": 295
        }
      },
      "execution_count": null,
      "outputs": [
        {
          "output_type": "display_data",
          "data": {
            "text/plain": [
              "<Figure size 432x288 with 1 Axes>"
            ],
            "image/png": "[encoded data removed]"
          },
          "metadata": {}
        }
      ]
    }
  ]
}